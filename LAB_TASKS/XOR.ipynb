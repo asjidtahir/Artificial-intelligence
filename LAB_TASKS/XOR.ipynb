{
 "cells": [
  {
   "cell_type": "markdown",
   "id": "eec2b207-988a-4c83-80e7-45dcec28a4ba",
   "metadata": {},
   "source": [
    "### **TASK 1**\n",
    "Use the implementation of perceptron from the last lab manual and model the truth table of XOR.\n",
    "\n",
    "![XOR](./XOR.png \"XOR\")\n"
   ]
  },
  {
   "cell_type": "markdown",
   "id": "3c8a42c1-c399-4682-bb3f-7674319e3313",
   "metadata": {},
   "source": [
    "### **TASK 2**\n",
    "1. Import the diabetes dataset. You can find data description in the description file.\n",
    "2. Use pandas plots to have a look and feel of the different attributes of the data.\n",
    "3. Apply perceptron algorithm to model the data distribution.\n",
    "4. Use mean squared error as your cost/ error function.\n",
    "5. Use the below given derivatives to find gradients of each W.\n",
    "\n",
    "![MSE](./MSE.png \"MSE\")\n",
    "\n",
    "![MSE derivative](./derivativeMSE.png \"MSE derivative\")\n"
   ]
  },
  {
   "cell_type": "code",
   "execution_count": 2,
   "id": "02049a0e-1577-47b7-8bb0-f837b491b7bf",
   "metadata": {},
   "outputs": [],
   "source": [
    "import pandas as pd\n",
    "import numpy as np\n",
    "from sklearn.model_selection import train_test_split"
   ]
  },
  {
   "cell_type": "code",
   "execution_count": 3,
   "id": "e5755759-c7ad-4a3a-a9c1-ed0040e1b989",
   "metadata": {},
   "outputs": [
    {
     "data": {
      "text/html": [
       "<div>\n",
       "<style scoped>\n",
       "    .dataframe tbody tr th:only-of-type {\n",
       "        vertical-align: middle;\n",
       "    }\n",
       "\n",
       "    .dataframe tbody tr th {\n",
       "        vertical-align: top;\n",
       "    }\n",
       "\n",
       "    .dataframe thead th {\n",
       "        text-align: right;\n",
       "    }\n",
       "</style>\n",
       "<table border=\"1\" class=\"dataframe\">\n",
       "  <thead>\n",
       "    <tr style=\"text-align: right;\">\n",
       "      <th></th>\n",
       "      <th>x1</th>\n",
       "      <th>x2</th>\n",
       "      <th>label</th>\n",
       "    </tr>\n",
       "  </thead>\n",
       "  <tbody>\n",
       "    <tr>\n",
       "      <th>0</th>\n",
       "      <td>0</td>\n",
       "      <td>0</td>\n",
       "      <td>0</td>\n",
       "    </tr>\n",
       "    <tr>\n",
       "      <th>1</th>\n",
       "      <td>0</td>\n",
       "      <td>1</td>\n",
       "      <td>1</td>\n",
       "    </tr>\n",
       "    <tr>\n",
       "      <th>2</th>\n",
       "      <td>1</td>\n",
       "      <td>0</td>\n",
       "      <td>1</td>\n",
       "    </tr>\n",
       "    <tr>\n",
       "      <th>3</th>\n",
       "      <td>1</td>\n",
       "      <td>1</td>\n",
       "      <td>0</td>\n",
       "    </tr>\n",
       "  </tbody>\n",
       "</table>\n",
       "</div>"
      ],
      "text/plain": [
       "   x1  x2  label\n",
       "0   0   0      0\n",
       "1   0   1      1\n",
       "2   1   0      1\n",
       "3   1   1      0"
      ]
     },
     "execution_count": 3,
     "metadata": {},
     "output_type": "execute_result"
    }
   ],
   "source": [
    "df = pd.DataFrame(np.array([[0,0,0],[0,1,1],[1,0,1],[1,1,0]]),columns=['x1','x2','label'])\n",
    "df"
   ]
  },
  {
   "cell_type": "code",
   "execution_count": 3,
   "id": "4e019d12-a0d6-4f9d-bd7b-e5c01d217c9a",
   "metadata": {},
   "outputs": [
    {
     "data": {
      "text/plain": [
       "array([[0, 0, 0],\n",
       "       [0, 1, 1],\n",
       "       [1, 0, 1],\n",
       "       [1, 1, 0]])"
      ]
     },
     "execution_count": 3,
     "metadata": {},
     "output_type": "execute_result"
    }
   ],
   "source": [
    "arr = np.array(df)\n",
    "arr"
   ]
  },
  {
   "cell_type": "code",
   "execution_count": 4,
   "id": "f0fea33f-9124-4fe2-80e8-0d2aaf6d7b61",
   "metadata": {},
   "outputs": [
    {
     "data": {
      "text/plain": [
       "array([[0, 0],\n",
       "       [0, 1],\n",
       "       [1, 0],\n",
       "       [1, 1]])"
      ]
     },
     "execution_count": 4,
     "metadata": {},
     "output_type": "execute_result"
    }
   ],
   "source": [
    "X=np.array(df[['x1','x2']])\n",
    "X=np.array(X)\n",
    "X"
   ]
  },
  {
   "cell_type": "code",
   "execution_count": 5,
   "id": "50e2b7c9-f3c2-4fe8-ab55-4e68159462f9",
   "metadata": {},
   "outputs": [
    {
     "data": {
      "text/plain": [
       "array([0, 1, 1, 0])"
      ]
     },
     "execution_count": 5,
     "metadata": {},
     "output_type": "execute_result"
    }
   ],
   "source": [
    "Y=np.array(df['label'])\n",
    "Y=np.array(Y)\n",
    "Y"
   ]
  },
  {
   "cell_type": "code",
   "execution_count": 6,
   "id": "1ca840a5-cc63-483f-acdb-3bf0ef95a332",
   "metadata": {},
   "outputs": [
    {
     "name": "stdout",
     "output_type": "stream",
     "text": [
      "Features\n",
      "[[0 0]\n",
      " [0 1]\n",
      " [1 0]\n",
      " [1 1]]\n",
      "Label\n",
      "[0 1 1 0]\n"
     ]
    }
   ],
   "source": [
    "print(\"Features\")\n",
    "print(X)\n",
    "print(\"Label\")\n",
    "print(Y)\n"
   ]
  },
  {
   "cell_type": "code",
   "execution_count": 7,
   "id": "1dd12c27-6d64-400e-8c7f-e7cfd97e762c",
   "metadata": {},
   "outputs": [],
   "source": [
    "X =X.T"
   ]
  },
  {
   "cell_type": "code",
   "execution_count": 8,
   "id": "46930772-a32b-467b-ae51-d804cee277b4",
   "metadata": {},
   "outputs": [
    {
     "data": {
      "text/plain": [
       "(2, 4)"
      ]
     },
     "execution_count": 8,
     "metadata": {},
     "output_type": "execute_result"
    }
   ],
   "source": [
    "X.shape"
   ]
  },
  {
   "cell_type": "code",
   "execution_count": 9,
   "id": "24fe88f3-fedd-4122-b6c1-1bf2ba8063c1",
   "metadata": {},
   "outputs": [],
   "source": [
    "W = np.random.rand(2,1)\n",
    "b = np.random.rand()"
   ]
  },
  {
   "cell_type": "code",
   "execution_count": 10,
   "id": "353970fa-cbf1-4319-a8c6-68fda981f359",
   "metadata": {},
   "outputs": [
    {
     "name": "stdout",
     "output_type": "stream",
     "text": [
      "[[0.42731205]\n",
      " [0.12515294]]\n",
      "0.9203324386641762\n"
     ]
    }
   ],
   "source": [
    "print(W)\n",
    "print(b)"
   ]
  },
  {
   "cell_type": "code",
   "execution_count": 11,
   "id": "430e2f9e-5ebe-44b9-b047-d4918a82be0a",
   "metadata": {},
   "outputs": [
    {
     "data": {
      "text/plain": [
       "(1, 4)"
      ]
     },
     "execution_count": 11,
     "metadata": {},
     "output_type": "execute_result"
    }
   ],
   "source": [
    "np.expand_dims(Y , axis=0).shape"
   ]
  },
  {
   "cell_type": "code",
   "execution_count": 12,
   "id": "fc8a61bc-9f6e-4d1f-9b37-0522934f8e34",
   "metadata": {},
   "outputs": [],
   "source": [
    "def sigmoid(z):\n",
    "    return 1/(1 + np.exp(-z))"
   ]
  },
  {
   "cell_type": "code",
   "execution_count": 19,
   "id": "e9d0aa76-387c-428a-b750-aa8cae3edb7b",
   "metadata": {},
   "outputs": [
    {
     "data": {
      "text/plain": [
       "(1, 4)"
      ]
     },
     "execution_count": 19,
     "metadata": {},
     "output_type": "execute_result"
    }
   ],
   "source": [
    "Z.shape"
   ]
  },
  {
   "cell_type": "code",
   "execution_count": 18,
   "id": "09e1139f-8296-4cf6-9311-76037f84e1af",
   "metadata": {},
   "outputs": [
    {
     "data": {
      "text/plain": [
       "(4,)"
      ]
     },
     "execution_count": 18,
     "metadata": {},
     "output_type": "execute_result"
    }
   ],
   "source": [
    "A.shape"
   ]
  },
  {
   "cell_type": "code",
   "execution_count": 17,
   "id": "17c80e4a-356d-414b-bffe-6203b2037c30",
   "metadata": {},
   "outputs": [],
   "source": [
    "from sklearn.metrics import log_loss\n",
    "J = log_loss(Y,A)"
   ]
  },
  {
   "cell_type": "code",
   "execution_count": 16,
   "id": "5f0a877c-3459-4647-a9d1-a205d2ce461a",
   "metadata": {},
   "outputs": [
    {
     "name": "stdout",
     "output_type": "stream",
     "text": [
      "17.26978799617044\n",
      "17.26978799617044\n",
      "17.26978799617044\n",
      "17.26978799617044\n",
      "17.26978799617044\n",
      "17.26978799617044\n",
      "17.26978799617044\n",
      "17.26978799617044\n",
      "17.26978799617044\n",
      "17.26978799617044\n"
     ]
    }
   ],
   "source": [
    "alpha = 0.001\n",
    "for i in range(10):\n",
    "    #forward pass\n",
    "    Z=np.dot(W.T,X) +b\n",
    "    A=sigmoid(Z)\n",
    "    A=np.where(A<0.5,0,1)\n",
    "    A=A.squeeze()\n",
    "    #Backword Pass\n",
    "    J=log_loss(Y,A)\n",
    "    print(J)\n",
    "    dz = A - Y\n",
    "    dz=np.expand_dims(dz,axis=0)\n",
    "    dw=np.dot(X,dz.T)/X.shape[0]\n",
    "    db=np.sum(dz,axis=1)/X.shape[0]\n",
    "    W=W-alpha * dw\n",
    "    b = b - alpha * db\n",
    "    \n",
    "\n",
    "\n",
    "    "
   ]
  },
  {
   "cell_type": "code",
   "execution_count": null,
   "id": "92b158f8-c960-4726-bd3a-9f14d7cec2ed",
   "metadata": {},
   "outputs": [],
   "source": []
  }
 ],
 "metadata": {
  "kernelspec": {
   "display_name": "Python 3 (ipykernel)",
   "language": "python",
   "name": "python3"
  },
  "language_info": {
   "codemirror_mode": {
    "name": "ipython",
    "version": 3
   },
   "file_extension": ".py",
   "mimetype": "text/x-python",
   "name": "python",
   "nbconvert_exporter": "python",
   "pygments_lexer": "ipython3",
   "version": "3.9.7"
  }
 },
 "nbformat": 4,
 "nbformat_minor": 5
}
