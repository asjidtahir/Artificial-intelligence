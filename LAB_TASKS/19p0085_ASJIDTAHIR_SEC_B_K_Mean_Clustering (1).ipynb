{
 "cells": [
  {
   "cell_type": "code",
   "execution_count": 10,
   "metadata": {},
   "outputs": [],
   "source": [
    "import pandas as pd\n",
    "import numpy as np\n",
    "from collections import Counter"
   ]
  },
  {
   "cell_type": "code",
   "execution_count": 11,
   "metadata": {},
   "outputs": [],
   "source": [
    "df = pd.read_csv(\"fruit_data_with_colors.txt\",delimiter = \"\\t\")"
   ]
  },
  {
   "cell_type": "code",
   "execution_count": 12,
   "metadata": {},
   "outputs": [
    {
     "data": {
      "text/html": [
       "<div>\n",
       "<style scoped>\n",
       "    .dataframe tbody tr th:only-of-type {\n",
       "        vertical-align: middle;\n",
       "    }\n",
       "\n",
       "    .dataframe tbody tr th {\n",
       "        vertical-align: top;\n",
       "    }\n",
       "\n",
       "    .dataframe thead th {\n",
       "        text-align: right;\n",
       "    }\n",
       "</style>\n",
       "<table border=\"1\" class=\"dataframe\">\n",
       "  <thead>\n",
       "    <tr style=\"text-align: right;\">\n",
       "      <th></th>\n",
       "      <th>fruit_label</th>\n",
       "      <th>fruit_name</th>\n",
       "      <th>fruit_subtype</th>\n",
       "      <th>mass</th>\n",
       "      <th>width</th>\n",
       "      <th>height</th>\n",
       "      <th>color_score</th>\n",
       "    </tr>\n",
       "  </thead>\n",
       "  <tbody>\n",
       "    <tr>\n",
       "      <th>0</th>\n",
       "      <td>1</td>\n",
       "      <td>apple</td>\n",
       "      <td>granny_smith</td>\n",
       "      <td>192</td>\n",
       "      <td>8.4</td>\n",
       "      <td>7.3</td>\n",
       "      <td>0.55</td>\n",
       "    </tr>\n",
       "    <tr>\n",
       "      <th>1</th>\n",
       "      <td>1</td>\n",
       "      <td>apple</td>\n",
       "      <td>granny_smith</td>\n",
       "      <td>180</td>\n",
       "      <td>8.0</td>\n",
       "      <td>6.8</td>\n",
       "      <td>0.59</td>\n",
       "    </tr>\n",
       "    <tr>\n",
       "      <th>2</th>\n",
       "      <td>1</td>\n",
       "      <td>apple</td>\n",
       "      <td>granny_smith</td>\n",
       "      <td>176</td>\n",
       "      <td>7.4</td>\n",
       "      <td>7.2</td>\n",
       "      <td>0.60</td>\n",
       "    </tr>\n",
       "    <tr>\n",
       "      <th>3</th>\n",
       "      <td>2</td>\n",
       "      <td>mandarin</td>\n",
       "      <td>mandarin</td>\n",
       "      <td>86</td>\n",
       "      <td>6.2</td>\n",
       "      <td>4.7</td>\n",
       "      <td>0.80</td>\n",
       "    </tr>\n",
       "    <tr>\n",
       "      <th>4</th>\n",
       "      <td>2</td>\n",
       "      <td>mandarin</td>\n",
       "      <td>mandarin</td>\n",
       "      <td>84</td>\n",
       "      <td>6.0</td>\n",
       "      <td>4.6</td>\n",
       "      <td>0.79</td>\n",
       "    </tr>\n",
       "  </tbody>\n",
       "</table>\n",
       "</div>"
      ],
      "text/plain": [
       "   fruit_label fruit_name fruit_subtype  mass  width  height  color_score\n",
       "0            1      apple  granny_smith   192    8.4     7.3         0.55\n",
       "1            1      apple  granny_smith   180    8.0     6.8         0.59\n",
       "2            1      apple  granny_smith   176    7.4     7.2         0.60\n",
       "3            2   mandarin      mandarin    86    6.2     4.7         0.80\n",
       "4            2   mandarin      mandarin    84    6.0     4.6         0.79"
      ]
     },
     "execution_count": 12,
     "metadata": {},
     "output_type": "execute_result"
    }
   ],
   "source": [
    "df.head()"
   ]
  },
  {
   "cell_type": "code",
   "execution_count": 13,
   "metadata": {},
   "outputs": [],
   "source": [
    "df.drop({'fruit_label','fruit_name','fruit_subtype'},axis=1,inplace=True)"
   ]
  },
  {
   "cell_type": "code",
   "execution_count": 14,
   "metadata": {},
   "outputs": [
    {
     "data": {
      "text/html": [
       "<div>\n",
       "<style scoped>\n",
       "    .dataframe tbody tr th:only-of-type {\n",
       "        vertical-align: middle;\n",
       "    }\n",
       "\n",
       "    .dataframe tbody tr th {\n",
       "        vertical-align: top;\n",
       "    }\n",
       "\n",
       "    .dataframe thead th {\n",
       "        text-align: right;\n",
       "    }\n",
       "</style>\n",
       "<table border=\"1\" class=\"dataframe\">\n",
       "  <thead>\n",
       "    <tr style=\"text-align: right;\">\n",
       "      <th></th>\n",
       "      <th>mass</th>\n",
       "      <th>width</th>\n",
       "      <th>height</th>\n",
       "      <th>color_score</th>\n",
       "    </tr>\n",
       "  </thead>\n",
       "  <tbody>\n",
       "    <tr>\n",
       "      <th>0</th>\n",
       "      <td>192</td>\n",
       "      <td>8.4</td>\n",
       "      <td>7.3</td>\n",
       "      <td>0.55</td>\n",
       "    </tr>\n",
       "    <tr>\n",
       "      <th>1</th>\n",
       "      <td>180</td>\n",
       "      <td>8.0</td>\n",
       "      <td>6.8</td>\n",
       "      <td>0.59</td>\n",
       "    </tr>\n",
       "    <tr>\n",
       "      <th>2</th>\n",
       "      <td>176</td>\n",
       "      <td>7.4</td>\n",
       "      <td>7.2</td>\n",
       "      <td>0.60</td>\n",
       "    </tr>\n",
       "    <tr>\n",
       "      <th>3</th>\n",
       "      <td>86</td>\n",
       "      <td>6.2</td>\n",
       "      <td>4.7</td>\n",
       "      <td>0.80</td>\n",
       "    </tr>\n",
       "    <tr>\n",
       "      <th>4</th>\n",
       "      <td>84</td>\n",
       "      <td>6.0</td>\n",
       "      <td>4.6</td>\n",
       "      <td>0.79</td>\n",
       "    </tr>\n",
       "  </tbody>\n",
       "</table>\n",
       "</div>"
      ],
      "text/plain": [
       "   mass  width  height  color_score\n",
       "0   192    8.4     7.3         0.55\n",
       "1   180    8.0     6.8         0.59\n",
       "2   176    7.4     7.2         0.60\n",
       "3    86    6.2     4.7         0.80\n",
       "4    84    6.0     4.6         0.79"
      ]
     },
     "execution_count": 14,
     "metadata": {},
     "output_type": "execute_result"
    }
   ],
   "source": [
    "df.head()"
   ]
  },
  {
   "cell_type": "code",
   "execution_count": 15,
   "metadata": {},
   "outputs": [],
   "source": [
    "x=np.array(df)"
   ]
  },
  {
   "cell_type": "code",
   "execution_count": 16,
   "metadata": {},
   "outputs": [
    {
     "data": {
      "text/plain": [
       "array([[192.  ,   8.4 ,   7.3 ,   0.55],\n",
       "       [180.  ,   8.  ,   6.8 ,   0.59],\n",
       "       [176.  ,   7.4 ,   7.2 ,   0.6 ],\n",
       "       [ 86.  ,   6.2 ,   4.7 ,   0.8 ],\n",
       "       [ 84.  ,   6.  ,   4.6 ,   0.79],\n",
       "       [ 80.  ,   5.8 ,   4.3 ,   0.77],\n",
       "       [ 80.  ,   5.9 ,   4.3 ,   0.81],\n",
       "       [ 76.  ,   5.8 ,   4.  ,   0.81],\n",
       "       [178.  ,   7.1 ,   7.8 ,   0.92],\n",
       "       [172.  ,   7.4 ,   7.  ,   0.89]])"
      ]
     },
     "execution_count": 16,
     "metadata": {},
     "output_type": "execute_result"
    }
   ],
   "source": [
    "x[:10]"
   ]
  },
  {
   "cell_type": "code",
   "execution_count": 44,
   "metadata": {},
   "outputs": [],
   "source": [
    "X = df[[\"mass\",\"width\",\"height\"]]"
   ]
  },
  {
   "cell_type": "markdown",
   "metadata": {},
   "source": [
    "#### x[:10]"
   ]
  },
  {
   "cell_type": "code",
   "execution_count": 46,
   "metadata": {},
   "outputs": [],
   "source": [
    "Y = df[\"fruit_label\"]"
   ]
  },
  {
   "cell_type": "code",
   "execution_count": null,
   "metadata": {},
   "outputs": [],
   "source": []
  },
  {
   "cell_type": "code",
   "execution_count": 47,
   "metadata": {},
   "outputs": [],
   "source": [
    "trainX = np.array(X[:50])\n",
    "trainY = np.array(Y[:50])\n",
    "testX = np.array(X[50:])\n",
    "testY = np.array(Y[50:])\n"
   ]
  },
  {
   "cell_type": "code",
   "execution_count": null,
   "metadata": {},
   "outputs": [],
   "source": []
  },
  {
   "cell_type": "code",
   "execution_count": null,
   "metadata": {},
   "outputs": [],
   "source": []
  },
  {
   "cell_type": "code",
   "execution_count": 48,
   "metadata": {},
   "outputs": [
    {
     "name": "stdout",
     "output_type": "stream",
     "text": [
      "    fruit_label fruit_name     fruit_subtype   mass  width  height  \\\n",
      "0             1      apple      granny_smith    192    8.4     7.3   \n",
      "1             1      apple      granny_smith    180    8.0     6.8   \n",
      "2             1      apple      granny_smith    176    7.4     7.2   \n",
      "3             2   mandarin          mandarin     86    6.2     4.7   \n",
      "4             2   mandarin          mandarin     84    6.0     4.6   \n",
      "5             2   mandarin          mandarin     80    5.8     4.3   \n",
      "6             2   mandarin          mandarin     80    5.9     4.3   \n",
      "7             2   mandarin          mandarin     76    5.8     4.0   \n",
      "8             1      apple          braeburn    178    7.1     7.8   \n",
      "9             1      apple          braeburn    172    7.4     7.0   \n",
      "10            1      apple          braeburn    166    6.9     7.3   \n",
      "11            1      apple          braeburn    172    7.1     7.6   \n",
      "12            1      apple          braeburn    154    7.0     7.1   \n",
      "13            1      apple  golden_delicious    164    7.3     7.7   \n",
      "14            1      apple  golden_delicious    152    7.6     7.3   \n",
      "15            1      apple  golden_delicious    156    7.7     7.1   \n",
      "16            1      apple  golden_delicious   1000    7.6     7.5   \n",
      "17            1      apple  golden_delicious    168    7.5     7.6   \n",
      "18            1      apple       cripps_pink    162    7.5     7.1   \n",
      "19            1      apple       cripps_pink    162    7.4     7.2   \n",
      "20            1      apple       cripps_pink    160    7.5     7.5   \n",
      "21            1      apple       cripps_pink    156    7.4     7.4   \n",
      "22            1      apple       cripps_pink    140    7.3     7.1   \n",
      "23            1      apple       cripps_pink    170    7.6     7.9   \n",
      "24            3     orange     spanish_jumbo    342    9.0     9.4   \n",
      "25            3     orange     spanish_jumbo    356    9.2     9.2   \n",
      "26            3     orange     spanish_jumbo    362    9.6     9.2   \n",
      "27            3     orange  selected_seconds    204    7.5     9.2   \n",
      "28            3     orange  selected_seconds    140    6.7     7.1   \n",
      "29            3     orange  selected_seconds    160    7.0     7.4   \n",
      "30            3     orange  selected_seconds    158    7.1     7.5   \n",
      "31            3     orange  selected_seconds    210    7.8     8.0   \n",
      "32            3     orange  selected_seconds    164    7.2     7.0   \n",
      "33            3     orange      turkey_navel    190    7.5     8.1   \n",
      "34            3     orange      turkey_navel    142    7.6     7.8   \n",
      "35            3     orange      turkey_navel    150    7.1     7.9   \n",
      "36            3     orange      turkey_navel    160    7.1     7.6   \n",
      "37            3     orange      turkey_navel    154    7.3     7.3   \n",
      "38            3     orange      turkey_navel    158    7.2     7.8   \n",
      "39            3     orange      turkey_navel    154    7.3     7.5   \n",
      "40            3     orange      turkey_navel  30000    7.1     7.5   \n",
      "41            3     orange      turkey_navel    180    7.6     8.2   \n",
      "42            3     orange      turkey_navel    154    7.2     7.2   \n",
      "43            4      lemon    spanish_belsan    194    7.2    10.3   \n",
      "44            4      lemon    spanish_belsan    200    7.3    10.5   \n",
      "45            4      lemon    spanish_belsan    186    7.2     9.2   \n",
      "46            4      lemon    spanish_belsan    216    7.3    10.2   \n",
      "47            4      lemon    spanish_belsan    196    7.3     9.7   \n",
      "48            4      lemon    spanish_belsan    174    7.3    10.1   \n",
      "49            4      lemon           unknown    132    5.8     8.7   \n",
      "50            4      lemon           unknown    130    6.0     8.2   \n",
      "51            4      lemon           unknown    116    6.0     7.5   \n",
      "52            4      lemon           unknown    118    5.9     8.0   \n",
      "53            4      lemon           unknown    120    6.0     8.4   \n",
      "54            4      lemon           unknown    116    6.1     8.5   \n",
      "55            4      lemon           unknown    116    6.3     7.7   \n",
      "56            4      lemon           unknown    116    5.9     8.1   \n",
      "57            4      lemon           unknown    152    6.5     8.5   \n",
      "58            4      lemon           unknown    118    6.1     8.1   \n",
      "\n",
      "    color_score  \n",
      "0          0.55  \n",
      "1          0.59  \n",
      "2          0.60  \n",
      "3          0.80  \n",
      "4          0.79  \n",
      "5          0.77  \n",
      "6          0.81  \n",
      "7          0.81  \n",
      "8          0.92  \n",
      "9          0.89  \n",
      "10         0.93  \n",
      "11         0.92  \n",
      "12         0.88  \n",
      "13         0.70  \n",
      "14         0.69  \n",
      "15         0.69  \n",
      "16         0.67  \n",
      "17         0.73  \n",
      "18         0.83  \n",
      "19         0.85  \n",
      "20         0.86  \n",
      "21         0.84  \n",
      "22         0.87  \n",
      "23         0.88  \n",
      "24         0.75  \n",
      "25         0.75  \n",
      "26         0.74  \n",
      "27         0.77  \n",
      "28         0.72  \n",
      "29         0.81  \n",
      "30         0.79  \n",
      "31         0.82  \n",
      "32         0.80  \n",
      "33         0.74  \n",
      "34         0.75  \n",
      "35         0.75  \n",
      "36         0.76  \n",
      "37         0.79  \n",
      "38         0.77  \n",
      "39         0.76  \n",
      "40         0.78  \n",
      "41         0.79  \n",
      "42         0.82  \n",
      "43         0.70  \n",
      "44         0.72  \n",
      "45         0.72  \n",
      "46         0.71  \n",
      "47         0.72  \n",
      "48         0.72  \n",
      "49         0.73  \n",
      "50         0.71  \n",
      "51         0.72  \n",
      "52         0.72  \n",
      "53         0.74  \n",
      "54         0.71  \n",
      "55         0.72  \n",
      "56         0.73  \n",
      "57         0.72  \n",
      "58         0.70  \n"
     ]
    }
   ],
   "source": [
    "print(df)"
   ]
  },
  {
   "cell_type": "code",
   "execution_count": null,
   "metadata": {},
   "outputs": [],
   "source": []
  },
  {
   "cell_type": "code",
   "execution_count": null,
   "metadata": {},
   "outputs": [],
   "source": []
  },
  {
   "cell_type": "code",
   "execution_count": null,
   "metadata": {},
   "outputs": [],
   "source": []
  },
  {
   "cell_type": "code",
   "execution_count": null,
   "metadata": {},
   "outputs": [],
   "source": [
    "\n"
   ]
  },
  {
   "cell_type": "code",
   "execution_count": 49,
   "metadata": {},
   "outputs": [],
   "source": [
    "class KNN:\n",
    "    def __init__(self,k = 1):\n",
    "        self.k = k\n",
    "        \n",
    "    def euclidian_distance(self,query,X):\n",
    "        difference = np.array(X) - np.array(query)\n",
    "        sqrd_diff = np.square(difference)\n",
    "        sum_sqrd_diff = np.sum(sqrd_diff, axis = 1)\n",
    "        distance = np.sqrt(sum_sqrd_diff)\n",
    "        return distance\n",
    "    \n",
    "    def nearest_neighbours(self,distance):\n",
    "        return np.argsort(distance)[:self.k]\n",
    "    \n",
    "    def predict(self,query,trainX,trainY):\n",
    "        ed = self.euclidian_distance(query,trainX)\n",
    "        nn = self.nearest_neighbours(ed)\n",
    "        labels_nn = list(trainY[nn])\n",
    "        return max(labels_nn, key = labels_nn.count) "
   ]
  },
  {
   "cell_type": "code",
   "execution_count": 50,
   "metadata": {},
   "outputs": [],
   "source": [
    "classifier = KNN(4)"
   ]
  },
  {
   "cell_type": "code",
   "execution_count": 51,
   "metadata": {},
   "outputs": [],
   "source": [
    "predictions = [classifier.predict(x,trainX,trainY) for x in testX]"
   ]
  },
  {
   "cell_type": "code",
   "execution_count": 52,
   "metadata": {},
   "outputs": [
    {
     "data": {
      "text/plain": [
       "[3, 3, 3, 3, 3, 3, 3, 3, 3]"
      ]
     },
     "execution_count": 52,
     "metadata": {},
     "output_type": "execute_result"
    }
   ],
   "source": [
    "predictions"
   ]
  },
  {
   "cell_type": "code",
   "execution_count": 53,
   "metadata": {},
   "outputs": [
    {
     "data": {
      "text/plain": [
       "array([4, 4, 4, 4, 4, 4, 4, 4, 4], dtype=int64)"
      ]
     },
     "execution_count": 53,
     "metadata": {},
     "output_type": "execute_result"
    }
   ],
   "source": [
    "testY"
   ]
  },
  {
   "cell_type": "code",
   "execution_count": 54,
   "metadata": {},
   "outputs": [],
   "source": [
    "df = pd.read_csv(\"fruit_data_with_colors.txt\",delimiter = \"\\t\")"
   ]
  },
  {
   "cell_type": "code",
   "execution_count": 55,
   "metadata": {},
   "outputs": [],
   "source": [
    "X = np.array(df[[\"mass\",\"width\",\"height\",\"color_score\"]])"
   ]
  },
  {
   "cell_type": "code",
   "execution_count": 56,
   "metadata": {},
   "outputs": [
    {
     "data": {
      "text/plain": [
       "(59, 4)"
      ]
     },
     "execution_count": 56,
     "metadata": {},
     "output_type": "execute_result"
    }
   ],
   "source": [
    "  X.shape"
   ]
  },
  {
   "cell_type": "code",
   "execution_count": 57,
   "metadata": {},
   "outputs": [],
   "source": [
    "K = 4"
   ]
  },
  {
   "cell_type": "code",
   "execution_count": 58,
   "metadata": {},
   "outputs": [],
   "source": [
    "centroidIndex = np.random.randint(0,58,(4,))"
   ]
  },
  {
   "cell_type": "code",
   "execution_count": 59,
   "metadata": {},
   "outputs": [
    {
     "data": {
      "text/plain": [
       "array([17, 12, 47, 11])"
      ]
     },
     "execution_count": 59,
     "metadata": {},
     "output_type": "execute_result"
    }
   ],
   "source": [
    "centroidIndex"
   ]
  },
  {
   "cell_type": "code",
   "execution_count": 60,
   "metadata": {},
   "outputs": [],
   "source": [
    "centroids = X[centroidIndex]"
   ]
  },
  {
   "cell_type": "code",
   "execution_count": 61,
   "metadata": {},
   "outputs": [
    {
     "data": {
      "text/plain": [
       "array([[168.  ,   7.5 ,   7.6 ,   0.73],\n",
       "       [154.  ,   7.  ,   7.1 ,   0.88],\n",
       "       [196.  ,   7.3 ,   9.7 ,   0.72],\n",
       "       [172.  ,   7.1 ,   7.6 ,   0.92]])"
      ]
     },
     "execution_count": 61,
     "metadata": {},
     "output_type": "execute_result"
    }
   ],
   "source": [
    "centroids"
   ]
  },
  {
   "cell_type": "code",
   "execution_count": 62,
   "metadata": {},
   "outputs": [],
   "source": [
    "X_ = np.delete(X,centroidIndex, axis = 0)"
   ]
  },
  {
   "cell_type": "code",
   "execution_count": 63,
   "metadata": {},
   "outputs": [],
   "source": [
    "clusters = [[],[],[],[]]\n",
    "clusters[0].append(centroids[0])\n",
    "clusters[1].append(centroids[1])\n",
    "clusters[2].append(centroids[2])\n",
    "clusters[3].append(centroids[3])"
   ]
  },
  {
   "cell_type": "code",
   "execution_count": 64,
   "metadata": {},
   "outputs": [],
   "source": [
    "def euclidian_distance(query,X):\n",
    "        difference = np.array(X) - np.array(query)\n",
    "        sqrd_diff = np.square(difference)\n",
    "        sum_sqrd_diff = np.sum(sqrd_diff, axis = 1)\n",
    "        distance = np.sqrt(sum_sqrd_diff)\n",
    "        return distance"
   ]
  },
  {
   "cell_type": "code",
   "execution_count": 65,
   "metadata": {},
   "outputs": [],
   "source": [
    "for x in X_:\n",
    "    id = np.argmin(euclidian_distance(x,centroids))\n",
    "    clusters[id].append(x)"
   ]
  },
  {
   "cell_type": "code",
   "execution_count": 66,
   "metadata": {},
   "outputs": [
    {
     "data": {
      "text/plain": [
       "7"
      ]
     },
     "execution_count": 66,
     "metadata": {},
     "output_type": "execute_result"
    }
   ],
   "source": [
    "len(clusters[0])"
   ]
  },
  {
   "cell_type": "code",
   "execution_count": 67,
   "metadata": {},
   "outputs": [
    {
     "data": {
      "text/plain": [
       "31"
      ]
     },
     "execution_count": 67,
     "metadata": {},
     "output_type": "execute_result"
    }
   ],
   "source": [
    "len(clusters[1])"
   ]
  },
  {
   "cell_type": "code",
   "execution_count": 68,
   "metadata": {},
   "outputs": [
    {
     "data": {
      "text/plain": [
       "14"
      ]
     },
     "execution_count": 68,
     "metadata": {},
     "output_type": "execute_result"
    }
   ],
   "source": [
    "len(clusters[2])"
   ]
  },
  {
   "cell_type": "code",
   "execution_count": 69,
   "metadata": {},
   "outputs": [
    {
     "data": {
      "text/plain": [
       "7"
      ]
     },
     "execution_count": 69,
     "metadata": {},
     "output_type": "execute_result"
    }
   ],
   "source": [
    "len(clusters[3])"
   ]
  },
  {
   "cell_type": "code",
   "execution_count": 70,
   "metadata": {},
   "outputs": [],
   "source": [
    "centroids[0] = np.mean(clusters[0],axis = 0)"
   ]
  },
  {
   "cell_type": "code",
   "execution_count": null,
   "metadata": {},
   "outputs": [],
   "source": []
  },
  {
   "cell_type": "code",
   "execution_count": null,
   "metadata": {},
   "outputs": [],
   "source": []
  }
 ],
 "metadata": {
  "kernelspec": {
   "display_name": "Python 3",
   "language": "python",
   "name": "python3"
  },
  "language_info": {
   "codemirror_mode": {
    "name": "ipython",
    "version": 3
   },
   "file_extension": ".py",
   "mimetype": "text/x-python",
   "name": "python",
   "nbconvert_exporter": "python",
   "pygments_lexer": "ipython3",
   "version": "3.8.5"
  }
 },
 "nbformat": 4,
 "nbformat_minor": 4
}
