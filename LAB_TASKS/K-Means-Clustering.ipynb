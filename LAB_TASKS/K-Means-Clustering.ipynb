{
 "cells": [
  {
   "cell_type": "code",
   "execution_count": 6,
   "metadata": {},
   "outputs": [],
   "source": [
    "import numpy as np\n",
    "import pandas as pd\n",
    "import matplotlib.pyplot as plt\n",
    "from sklearn.metrics import accuracy_score"
   ]
  },
  {
   "cell_type": "code",
   "execution_count": 7,
   "metadata": {},
   "outputs": [],
   "source": [
    "columns = [i for i in range(14)]"
   ]
  },
  {
   "cell_type": "code",
   "execution_count": 8,
   "metadata": {},
   "outputs": [],
   "source": [
    "columns[0] = \"label\""
   ]
  },
  {
   "cell_type": "code",
   "execution_count": 10,
   "metadata": {},
   "outputs": [
    {
     "data": {
      "text/html": [
       "<div>\n",
       "<style scoped>\n",
       "    .dataframe tbody tr th:only-of-type {\n",
       "        vertical-align: middle;\n",
       "    }\n",
       "\n",
       "    .dataframe tbody tr th {\n",
       "        vertical-align: top;\n",
       "    }\n",
       "\n",
       "    .dataframe thead th {\n",
       "        text-align: right;\n",
       "    }\n",
       "</style>\n",
       "<table border=\"1\" class=\"dataframe\">\n",
       "  <thead>\n",
       "    <tr style=\"text-align: right;\">\n",
       "      <th></th>\n",
       "      <th>label</th>\n",
       "      <th>1</th>\n",
       "      <th>2</th>\n",
       "      <th>3</th>\n",
       "      <th>4</th>\n",
       "      <th>5</th>\n",
       "      <th>6</th>\n",
       "      <th>7</th>\n",
       "      <th>8</th>\n",
       "      <th>9</th>\n",
       "      <th>10</th>\n",
       "      <th>11</th>\n",
       "      <th>12</th>\n",
       "      <th>13</th>\n",
       "    </tr>\n",
       "  </thead>\n",
       "  <tbody>\n",
       "    <tr>\n",
       "      <th>0</th>\n",
       "      <td>1</td>\n",
       "      <td>14.23</td>\n",
       "      <td>1.71</td>\n",
       "      <td>2.43</td>\n",
       "      <td>15.6</td>\n",
       "      <td>127</td>\n",
       "      <td>2.80</td>\n",
       "      <td>3.06</td>\n",
       "      <td>0.28</td>\n",
       "      <td>2.29</td>\n",
       "      <td>5.64</td>\n",
       "      <td>1.04</td>\n",
       "      <td>3.92</td>\n",
       "      <td>1065</td>\n",
       "    </tr>\n",
       "    <tr>\n",
       "      <th>1</th>\n",
       "      <td>1</td>\n",
       "      <td>13.20</td>\n",
       "      <td>1.78</td>\n",
       "      <td>2.14</td>\n",
       "      <td>11.2</td>\n",
       "      <td>100</td>\n",
       "      <td>2.65</td>\n",
       "      <td>2.76</td>\n",
       "      <td>0.26</td>\n",
       "      <td>1.28</td>\n",
       "      <td>4.38</td>\n",
       "      <td>1.05</td>\n",
       "      <td>3.40</td>\n",
       "      <td>1050</td>\n",
       "    </tr>\n",
       "    <tr>\n",
       "      <th>2</th>\n",
       "      <td>1</td>\n",
       "      <td>13.16</td>\n",
       "      <td>2.36</td>\n",
       "      <td>2.67</td>\n",
       "      <td>18.6</td>\n",
       "      <td>101</td>\n",
       "      <td>2.80</td>\n",
       "      <td>3.24</td>\n",
       "      <td>0.30</td>\n",
       "      <td>2.81</td>\n",
       "      <td>5.68</td>\n",
       "      <td>1.03</td>\n",
       "      <td>3.17</td>\n",
       "      <td>1185</td>\n",
       "    </tr>\n",
       "    <tr>\n",
       "      <th>3</th>\n",
       "      <td>1</td>\n",
       "      <td>14.37</td>\n",
       "      <td>1.95</td>\n",
       "      <td>2.50</td>\n",
       "      <td>16.8</td>\n",
       "      <td>113</td>\n",
       "      <td>3.85</td>\n",
       "      <td>3.49</td>\n",
       "      <td>0.24</td>\n",
       "      <td>2.18</td>\n",
       "      <td>7.80</td>\n",
       "      <td>0.86</td>\n",
       "      <td>3.45</td>\n",
       "      <td>1480</td>\n",
       "    </tr>\n",
       "    <tr>\n",
       "      <th>4</th>\n",
       "      <td>1</td>\n",
       "      <td>13.24</td>\n",
       "      <td>2.59</td>\n",
       "      <td>2.87</td>\n",
       "      <td>21.0</td>\n",
       "      <td>118</td>\n",
       "      <td>2.80</td>\n",
       "      <td>2.69</td>\n",
       "      <td>0.39</td>\n",
       "      <td>1.82</td>\n",
       "      <td>4.32</td>\n",
       "      <td>1.04</td>\n",
       "      <td>2.93</td>\n",
       "      <td>735</td>\n",
       "    </tr>\n",
       "    <tr>\n",
       "      <th>...</th>\n",
       "      <td>...</td>\n",
       "      <td>...</td>\n",
       "      <td>...</td>\n",
       "      <td>...</td>\n",
       "      <td>...</td>\n",
       "      <td>...</td>\n",
       "      <td>...</td>\n",
       "      <td>...</td>\n",
       "      <td>...</td>\n",
       "      <td>...</td>\n",
       "      <td>...</td>\n",
       "      <td>...</td>\n",
       "      <td>...</td>\n",
       "      <td>...</td>\n",
       "    </tr>\n",
       "    <tr>\n",
       "      <th>173</th>\n",
       "      <td>3</td>\n",
       "      <td>13.71</td>\n",
       "      <td>5.65</td>\n",
       "      <td>2.45</td>\n",
       "      <td>20.5</td>\n",
       "      <td>95</td>\n",
       "      <td>1.68</td>\n",
       "      <td>0.61</td>\n",
       "      <td>0.52</td>\n",
       "      <td>1.06</td>\n",
       "      <td>7.70</td>\n",
       "      <td>0.64</td>\n",
       "      <td>1.74</td>\n",
       "      <td>740</td>\n",
       "    </tr>\n",
       "    <tr>\n",
       "      <th>174</th>\n",
       "      <td>3</td>\n",
       "      <td>13.40</td>\n",
       "      <td>3.91</td>\n",
       "      <td>2.48</td>\n",
       "      <td>23.0</td>\n",
       "      <td>102</td>\n",
       "      <td>1.80</td>\n",
       "      <td>0.75</td>\n",
       "      <td>0.43</td>\n",
       "      <td>1.41</td>\n",
       "      <td>7.30</td>\n",
       "      <td>0.70</td>\n",
       "      <td>1.56</td>\n",
       "      <td>750</td>\n",
       "    </tr>\n",
       "    <tr>\n",
       "      <th>175</th>\n",
       "      <td>3</td>\n",
       "      <td>13.27</td>\n",
       "      <td>4.28</td>\n",
       "      <td>2.26</td>\n",
       "      <td>20.0</td>\n",
       "      <td>120</td>\n",
       "      <td>1.59</td>\n",
       "      <td>0.69</td>\n",
       "      <td>0.43</td>\n",
       "      <td>1.35</td>\n",
       "      <td>10.20</td>\n",
       "      <td>0.59</td>\n",
       "      <td>1.56</td>\n",
       "      <td>835</td>\n",
       "    </tr>\n",
       "    <tr>\n",
       "      <th>176</th>\n",
       "      <td>3</td>\n",
       "      <td>13.17</td>\n",
       "      <td>2.59</td>\n",
       "      <td>2.37</td>\n",
       "      <td>20.0</td>\n",
       "      <td>120</td>\n",
       "      <td>1.65</td>\n",
       "      <td>0.68</td>\n",
       "      <td>0.53</td>\n",
       "      <td>1.46</td>\n",
       "      <td>9.30</td>\n",
       "      <td>0.60</td>\n",
       "      <td>1.62</td>\n",
       "      <td>840</td>\n",
       "    </tr>\n",
       "    <tr>\n",
       "      <th>177</th>\n",
       "      <td>3</td>\n",
       "      <td>14.13</td>\n",
       "      <td>4.10</td>\n",
       "      <td>2.74</td>\n",
       "      <td>24.5</td>\n",
       "      <td>96</td>\n",
       "      <td>2.05</td>\n",
       "      <td>0.76</td>\n",
       "      <td>0.56</td>\n",
       "      <td>1.35</td>\n",
       "      <td>9.20</td>\n",
       "      <td>0.61</td>\n",
       "      <td>1.60</td>\n",
       "      <td>560</td>\n",
       "    </tr>\n",
       "  </tbody>\n",
       "</table>\n",
       "<p>178 rows × 14 columns</p>\n",
       "</div>"
      ],
      "text/plain": [
       "     label      1     2     3     4    5     6     7     8     9     10    11  \\\n",
       "0        1  14.23  1.71  2.43  15.6  127  2.80  3.06  0.28  2.29   5.64  1.04   \n",
       "1        1  13.20  1.78  2.14  11.2  100  2.65  2.76  0.26  1.28   4.38  1.05   \n",
       "2        1  13.16  2.36  2.67  18.6  101  2.80  3.24  0.30  2.81   5.68  1.03   \n",
       "3        1  14.37  1.95  2.50  16.8  113  3.85  3.49  0.24  2.18   7.80  0.86   \n",
       "4        1  13.24  2.59  2.87  21.0  118  2.80  2.69  0.39  1.82   4.32  1.04   \n",
       "..     ...    ...   ...   ...   ...  ...   ...   ...   ...   ...    ...   ...   \n",
       "173      3  13.71  5.65  2.45  20.5   95  1.68  0.61  0.52  1.06   7.70  0.64   \n",
       "174      3  13.40  3.91  2.48  23.0  102  1.80  0.75  0.43  1.41   7.30  0.70   \n",
       "175      3  13.27  4.28  2.26  20.0  120  1.59  0.69  0.43  1.35  10.20  0.59   \n",
       "176      3  13.17  2.59  2.37  20.0  120  1.65  0.68  0.53  1.46   9.30  0.60   \n",
       "177      3  14.13  4.10  2.74  24.5   96  2.05  0.76  0.56  1.35   9.20  0.61   \n",
       "\n",
       "       12    13  \n",
       "0    3.92  1065  \n",
       "1    3.40  1050  \n",
       "2    3.17  1185  \n",
       "3    3.45  1480  \n",
       "4    2.93   735  \n",
       "..    ...   ...  \n",
       "173  1.74   740  \n",
       "174  1.56   750  \n",
       "175  1.56   835  \n",
       "176  1.62   840  \n",
       "177  1.60   560  \n",
       "\n",
       "[178 rows x 14 columns]"
      ]
     },
     "execution_count": 10,
     "metadata": {},
     "output_type": "execute_result"
    }
   ],
   "source": [
    "data = pd.read_csv(\"wine dataset/wine.data\", delimiter=\",\", names = columns)\n",
    "data"
   ]
  },
  {
   "cell_type": "code",
   "execution_count": 11,
   "metadata": {},
   "outputs": [],
   "source": [
    "from sklearn.model_selection import train_test_split"
   ]
  },
  {
   "cell_type": "code",
   "execution_count": 12,
   "metadata": {},
   "outputs": [],
   "source": [
    "x_train, x_test, y_train, y_test = train_test_split(data[columns[1:176]], data[columns[:-1]], test_size=0.33)\n",
    "\n"
   ]
  },
  {
   "cell_type": "code",
   "execution_count": 51,
   "metadata": {},
   "outputs": [
    {
     "name": "stdout",
     "output_type": "stream",
     "text": [
      "X_train:           1     2     3     4    5     6     7     8     9     10    11    12  \\\n",
      "85   12.67  0.98  2.24  18.0   99  2.20  1.94  0.30  1.46   2.62  1.23  3.16   \n",
      "144  12.25  3.88  2.20  18.5  112  1.38  0.78  0.29  1.14   8.21  0.65  2.00   \n",
      "17   13.83  1.57  2.62  20.0  115  2.95  3.40  0.40  1.72   6.60  1.13  2.57   \n",
      "159  13.48  1.67  2.64  22.5   89  2.60  1.10  0.52  2.29  11.75  0.57  1.78   \n",
      "104  12.51  1.73  1.98  20.5   85  2.20  1.92  0.32  1.48   2.94  1.04  3.57   \n",
      "..     ...   ...   ...   ...  ...   ...   ...   ...   ...    ...   ...   ...   \n",
      "78   12.33  0.99  1.95  14.8  136  1.90  1.85  0.35  2.76   3.40  1.06  2.31   \n",
      "135  12.60  2.46  2.20  18.5   94  1.62  0.66  0.63  0.94   7.10  0.73  1.58   \n",
      "173  13.71  5.65  2.45  20.5   95  1.68  0.61  0.52  1.06   7.70  0.64  1.74   \n",
      "53   13.77  1.90  2.68  17.1  115  3.00  2.79  0.39  1.68   6.30  1.13  2.93   \n",
      "30   13.73  1.50  2.70  22.5  101  3.00  3.25  0.29  2.38   5.70  1.19  2.71   \n",
      "\n",
      "       13  \n",
      "85    450  \n",
      "144   855  \n",
      "17   1130  \n",
      "159   620  \n",
      "104   672  \n",
      "..    ...  \n",
      "78    750  \n",
      "135   695  \n",
      "173   740  \n",
      "53   1375  \n",
      "30   1285  \n",
      "\n",
      "[119 rows x 13 columns] \n",
      "\n"
     ]
    }
   ],
   "source": [
    "print(\"X_train: \", x_train, \"\\n\")\n",
    "# print(\"Y_train: \", y_train, \"\\n\")\n",
    "# print(\"X_test: \", x_test, \"\\n\")\n",
    "# print(\"Y_test: \", y_test, \"\\n\")"
   ]
  },
  {
   "cell_type": "code",
   "execution_count": 13,
   "metadata": {},
   "outputs": [
    {
     "data": {
      "image/png": "[encoded data removed]",
      "text/plain": [
       "<Figure size 432x288 with 1 Axes>"
      ]
     },
     "metadata": {
      "needs_background": "light"
     },
     "output_type": "display_data"
    }
   ],
   "source": [
    "plt.scatter(data[1], data[2])\n",
    "plt.show()"
   ]
  },
  {
   "cell_type": "code",
   "execution_count": 14,
   "metadata": {},
   "outputs": [
    {
     "data": {
      "image/png": "[encoded data removed]",
      "text/plain": [
       "<Figure size 432x288 with 1 Axes>"
      ]
     },
     "metadata": {
      "needs_background": "light"
     },
     "output_type": "display_data"
    }
   ],
   "source": [
    "plt.scatter(data[1], data[3])\n",
    "plt.show()"
   ]
  },
  {
   "cell_type": "code",
   "execution_count": 15,
   "metadata": {},
   "outputs": [
    {
     "data": {
      "image/png": "[encoded data removed]",
      "text/plain": [
       "<Figure size 432x288 with 1 Axes>"
      ]
     },
     "metadata": {
      "needs_background": "light"
     },
     "output_type": "display_data"
    }
   ],
   "source": [
    "plt.scatter(data[1], data[4])\n",
    "plt.show()"
   ]
  },
  {
   "cell_type": "code",
   "execution_count": 16,
   "metadata": {},
   "outputs": [
    {
     "data": {
      "image/png": "[encoded data removed]",
      "text/plain": [
       "<Figure size 432x288 with 1 Axes>"
      ]
     },
     "metadata": {
      "needs_background": "light"
     },
     "output_type": "display_data"
    }
   ],
   "source": [
    "plt.scatter(data[1], data[12])\n",
    "plt.show()"
   ]
  },
  {
   "cell_type": "code",
   "execution_count": 17,
   "metadata": {},
   "outputs": [
    {
     "data": {
      "image/png": "[encoded data removed]",
      "text/plain": [
       "<Figure size 432x288 with 1 Axes>"
      ]
     },
     "metadata": {
      "needs_background": "light"
     },
     "output_type": "display_data"
    }
   ],
   "source": [
    "plt.scatter(data[5], data[13])\n",
    "plt.show()"
   ]
  },
  {
   "cell_type": "code",
   "execution_count": 18,
   "metadata": {},
   "outputs": [
    {
     "name": "stdout",
     "output_type": "stream",
     "text": [
      "rand_numbers:  [ 4 80 21 35]\n"
     ]
    }
   ],
   "source": [
    "#1)Number of clusters\n",
    "k = 4\n",
    "\n",
    "rand_numbers = np.random.randint(0, len(data), size = k)\n",
    "\n",
    "print(\"rand_numbers: \", rand_numbers)"
   ]
  },
  {
   "cell_type": "code",
   "execution_count": 19,
   "metadata": {},
   "outputs": [],
   "source": [
    "data = np.array(data)"
   ]
  },
  {
   "cell_type": "code",
   "execution_count": 21,
   "metadata": {},
   "outputs": [
    {
     "data": {
      "text/plain": [
       "array([[1.000e+00, 1.324e+01, 2.590e+00, 2.870e+00, 2.100e+01, 1.180e+02,\n",
       "        2.800e+00, 2.690e+00, 3.900e-01, 1.820e+00, 4.320e+00, 1.040e+00,\n",
       "        2.930e+00, 7.350e+02],\n",
       "       [2.000e+00, 1.200e+01, 9.200e-01, 2.000e+00, 1.900e+01, 8.600e+01,\n",
       "        2.420e+00, 2.260e+00, 3.000e-01, 1.430e+00, 2.500e+00, 1.380e+00,\n",
       "        3.120e+00, 2.780e+02],\n",
       "       [1.000e+00, 1.293e+01, 3.800e+00, 2.650e+00, 1.860e+01, 1.020e+02,\n",
       "        2.410e+00, 2.410e+00, 2.500e-01, 1.980e+00, 4.500e+00, 1.030e+00,\n",
       "        3.520e+00, 7.700e+02],\n",
       "       [1.000e+00, 1.348e+01, 1.810e+00, 2.410e+00, 2.050e+01, 1.000e+02,\n",
       "        2.700e+00, 2.980e+00, 2.600e-01, 1.860e+00, 5.100e+00, 1.040e+00,\n",
       "        3.470e+00, 9.200e+02]])"
      ]
     },
     "execution_count": 21,
     "metadata": {},
     "output_type": "execute_result"
    }
   ],
   "source": [
    "#2)centorides\n",
    "centroids = data[rand_numbers]\n",
    "centroids"
   ]
  },
  {
   "cell_type": "code",
   "execution_count": 63,
   "metadata": {},
   "outputs": [],
   "source": [
    "def Euclidean_distance(c_point, data):\n",
    "        res = data - c_point\n",
    "        #print(\"Subtraction: \\n\", res)\n",
    "        res = np.square(res)\n",
    "        #print(\"square: \\n\", res)\n",
    "        res = np.sum(res, axis=1)\n",
    "       #print(\"Sum: \\n\", res)\n",
    "        \n",
    "        #print(\"Result: \\n\", res) \n",
    "        return res"
   ]
  },
  {
   "cell_type": "code",
   "execution_count": 23,
   "metadata": {},
   "outputs": [],
   "source": [
    "#Distance of each point to each centoride\n",
    "def compute_dis(centroids, data):\n",
    "    dis = []\n",
    "    for i in data:\n",
    "        dis.append(np.argmin(Euclidean_distance(centroids, i)))\n",
    "        #print(dis)\n",
    "     \n",
    "    return dis"
   ]
  },
  {
   "cell_type": "code",
   "execution_count": 24,
   "metadata": {},
   "outputs": [],
   "source": [
    "#cluster making\n",
    "def cluster_making(dis, clusters):\n",
    "    cluster1 = []\n",
    "    cluster2 = []\n",
    "    cluster3 = []\n",
    "    cluster4 = []\n",
    "    for i in range(len(dis)):\n",
    "        if dis[i] == 0:\n",
    "            cluster1.append(data[i])\n",
    "        elif dis[i] == 1:\n",
    "            cluster2.append(data[i])\n",
    "        elif dis[i] == 2:\n",
    "            cluster3.append(data[i])\n",
    "        else:\n",
    "            cluster4.append(data[i])\n",
    "    \n",
    "    clusters = [cluster1, cluster2, cluster3, cluster4]\n",
    "    return clusters"
   ]
  },
  {
   "cell_type": "code",
   "execution_count": 25,
   "metadata": {},
   "outputs": [],
   "source": [
    "#4)Computing Mean\n",
    "def compute_mean(clusters):\n",
    "    clusters_means = []\n",
    "    clusters1 = np.array(clusters[0])\n",
    "    clusters_means.append(clusters1.mean(axis = 0))\n",
    "    clusters2 = np.array(clusters[1])\n",
    "    clusters_means.append(clusters2.mean(axis = 0))\n",
    "    clusters3 = np.array(clusters[2])\n",
    "    clusters_means.append(clusters3.mean(axis = 0))\n",
    "    clusters4 = np.array(clusters[3])\n",
    "    clusters_means.append(clusters4.mean(axis = 0))\n",
    "    return clusters_means"
   ]
  },
  {
   "cell_type": "code",
   "execution_count": 68,
   "metadata": {},
   "outputs": [
    {
     "name": "stdout",
     "output_type": "stream",
     "text": [
      "[array([2.42372881e+00, 1.28700000e+01, 2.69762712e+00, 2.37932203e+00,\n",
      "       2.02406780e+01, 9.98305085e+01, 2.02762712e+00, 1.42728814e+00,\n",
      "       4.04237288e-01, 1.43491525e+00, 5.55152542e+00, 8.70508475e-01,\n",
      "       2.27016949e+00, 6.59220339e+02]), array([1.37837838e+00, 1.34356757e+01, 2.14729730e+00, 2.40027027e+00,\n",
      "       1.84621622e+01, 1.08513514e+02, 2.57729730e+00, 2.48162162e+00,\n",
      "       3.03783784e-01, 1.75135135e+00, 5.16081081e+00, 9.90432432e-01,\n",
      "       2.98513514e+00, 9.76702703e+02]), array([2.21052632e+00, 1.24750877e+01, 2.32526316e+00, 2.28000000e+00,\n",
      "       2.06368421e+01, 9.17192982e+01, 2.10578947e+00, 1.87140351e+00,\n",
      "       3.83333333e-01, 1.46842105e+00, 3.95210525e+00, 9.60526316e-01,\n",
      "       2.54438596e+00, 4.35578947e+02]), array([1.00000e+00, 1.38632e+01, 1.78880e+00, 2.48360e+00, 1.66600e+01,\n",
      "       1.04840e+02, 2.94040e+00, 3.14040e+00, 2.98800e-01, 2.00080e+00,\n",
      "       6.26320e+00, 1.10680e+00, 3.01840e+00, 1.32348e+03])]\n"
     ]
    }
   ],
   "source": [
    "#5)last step\n",
    "\n",
    "for i in range(100):\n",
    "    dis = compute_dis(centroids, data)\n",
    "    #print(\"Distance: \", dis)\n",
    "    clusters = []\n",
    "    clusters = cluster_making(dis, clusters)\n",
    "    #print(\"Clusters: \", clusters)\n",
    "    centroids = []\n",
    "    centroids = compute_mean(clusters)\n",
    "    #print(\"Mean: \", centroids)\n",
    "    \n",
    "print(centroids)"
   ]
  },
  {
   "cell_type": "code",
   "execution_count": 28,
   "metadata": {},
   "outputs": [
    {
     "ename": "NameError",
     "evalue": "name 'A' is not defined",
     "output_type": "error",
     "traceback": [
      "\u001b[0;31m---------------------------------------------------------------------------\u001b[0m",
      "\u001b[0;31mNameError\u001b[0m                                 Traceback (most recent call last)",
      "\u001b[0;32m<ipython-input-28-dc929260fb11>\u001b[0m in \u001b[0;36m<module>\u001b[0;34m\u001b[0m\n\u001b[0;32m----> 1\u001b[0;31m \u001b[0mactual_output\u001b[0m\u001b[0;34m=\u001b[0m \u001b[0mA\u001b[0m\u001b[0;34m.\u001b[0m\u001b[0mT\u001b[0m\u001b[0;34m\u001b[0m\u001b[0;34m\u001b[0m\u001b[0m\n\u001b[0m\u001b[1;32m      2\u001b[0m \u001b[0maccuracy_score\u001b[0m\u001b[0;34m(\u001b[0m\u001b[0my_test\u001b[0m\u001b[0;34m,\u001b[0m\u001b[0mt\u001b[0m\u001b[0;34m)\u001b[0m\u001b[0;34m\u001b[0m\u001b[0;34m\u001b[0m\u001b[0m\n",
      "\u001b[0;31mNameError\u001b[0m: name 'A' is not defined"
     ]
    }
   ],
   "source": [
    " actual_output= A.T\n",
    "accuracy_score(y_test,t)   "
   ]
  },
  {
   "cell_type": "code",
   "execution_count": 27,
   "metadata": {},
   "outputs": [
    {
     "data": {
      "text/plain": [
       "array([[1.000e+00, 1.320e+01, 1.780e+00, 2.140e+00, 1.120e+01, 1.000e+02,\n",
       "        2.650e+00, 2.760e+00, 2.600e-01, 1.280e+00, 4.380e+00, 1.050e+00,\n",
       "        3.400e+00, 1.050e+03],\n",
       "       [1.000e+00, 1.316e+01, 2.360e+00, 2.670e+00, 1.860e+01, 1.010e+02,\n",
       "        2.800e+00, 3.240e+00, 3.000e-01, 2.810e+00, 5.680e+00, 1.030e+00,\n",
       "        3.170e+00, 1.185e+03],\n",
       "       [1.000e+00, 1.437e+01, 1.950e+00, 2.500e+00, 1.680e+01, 1.130e+02,\n",
       "        3.850e+00, 3.490e+00, 2.400e-01, 2.180e+00, 7.800e+00, 8.600e-01,\n",
       "        3.450e+00, 1.480e+03],\n",
       "       [1.000e+00, 1.324e+01, 2.590e+00, 2.870e+00, 2.100e+01, 1.180e+02,\n",
       "        2.800e+00, 2.690e+00, 3.900e-01, 1.820e+00, 4.320e+00, 1.040e+00,\n",
       "        2.930e+00, 7.350e+02]])"
      ]
     },
     "execution_count": 27,
     "metadata": {},
     "output_type": "execute_result"
    }
   ],
   "source": [
    "actual_output = data[1:5]\n",
    "actual_output"
   ]
  },
  {
   "cell_type": "code",
   "execution_count": null,
   "metadata": {},
   "outputs": [],
   "source": []
  }
 ],
 "metadata": {
  "kernelspec": {
   "display_name": "Python 3",
   "language": "python",
   "name": "python3"
  },
  "language_info": {
   "codemirror_mode": {
    "name": "ipython",
    "version": 3
   },
   "file_extension": ".py",
   "mimetype": "text/x-python",
   "name": "python",
   "nbconvert_exporter": "python",
   "pygments_lexer": "ipython3",
   "version": "3.7.6"
  }
 },
 "nbformat": 4,
 "nbformat_minor": 5
}
