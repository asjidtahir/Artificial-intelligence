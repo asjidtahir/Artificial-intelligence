{
 "cells": [
  {
   "cell_type": "code",
   "execution_count": 2,
   "id": "9e86274d-50b4-4240-98e4-463e17726e94",
   "metadata": {},
   "outputs": [
    {
     "name": "stderr",
     "output_type": "stream",
     "text": [
      "2022-05-28 23:32:43.235521: W tensorflow/stream_executor/platform/default/dso_loader.cc:64] Could not load dynamic library 'libcuda.so.1'; dlerror: libcuda.so.1: cannot open shared object file: No such file or directory\n",
      "2022-05-28 23:32:43.235562: W tensorflow/stream_executor/cuda/cuda_driver.cc:269] failed call to cuInit: UNKNOWN ERROR (303)\n",
      "2022-05-28 23:32:43.235598: I tensorflow/stream_executor/cuda/cuda_diagnostics.cc:156] kernel driver does not appear to be running on this host (ibrar-Rajput): /proc/driver/nvidia/version does not exist\n",
      "2022-05-28 23:32:43.307362: I tensorflow/core/platform/cpu_feature_guard.cc:151] This TensorFlow binary is optimized with oneAPI Deep Neural Network Library (oneDNN) to use the following CPU instructions in performance-critical operations:  AVX2 FMA\n",
      "To enable them in other operations, rebuild TensorFlow with the appropriate compiler flags.\n"
     ]
    },
    {
     "name": "stdout",
     "output_type": "stream",
     "text": [
      "Epoch 1/20\n",
      "3/3 - 2s - loss: 2.3123 - accuracy: 0.0943 - val_loss: 2.3374 - val_accuracy: 0.0733 - 2s/epoch - 763ms/step\n",
      "Epoch 2/20\n",
      "3/3 - 0s - loss: 2.3047 - accuracy: 0.1057 - val_loss: 2.3365 - val_accuracy: 0.0733 - 170ms/epoch - 57ms/step\n",
      "Epoch 3/20\n",
      "3/3 - 0s - loss: 2.2970 - accuracy: 0.1114 - val_loss: 2.3355 - val_accuracy: 0.0733 - 179ms/epoch - 60ms/step\n",
      "Epoch 4/20\n",
      "3/3 - 0s - loss: 2.2893 - accuracy: 0.1257 - val_loss: 2.3345 - val_accuracy: 0.0800 - 358ms/epoch - 119ms/step\n",
      "Epoch 5/20\n",
      "3/3 - 0s - loss: 2.2817 - accuracy: 0.1343 - val_loss: 2.3336 - val_accuracy: 0.0800 - 245ms/epoch - 82ms/step\n",
      "Epoch 6/20\n",
      "3/3 - 0s - loss: 2.2740 - accuracy: 0.1457 - val_loss: 2.3326 - val_accuracy: 0.0867 - 167ms/epoch - 56ms/step\n",
      "Epoch 7/20\n",
      "3/3 - 0s - loss: 2.2664 - accuracy: 0.1543 - val_loss: 2.3317 - val_accuracy: 0.0867 - 197ms/epoch - 66ms/step\n",
      "Epoch 8/20\n",
      "3/3 - 0s - loss: 2.2589 - accuracy: 0.1629 - val_loss: 2.3307 - val_accuracy: 0.0867 - 222ms/epoch - 74ms/step\n",
      "Epoch 9/20\n",
      "3/3 - 0s - loss: 2.2513 - accuracy: 0.1686 - val_loss: 2.3298 - val_accuracy: 0.0933 - 252ms/epoch - 84ms/step\n",
      "Epoch 10/20\n",
      "3/3 - 0s - loss: 2.2438 - accuracy: 0.1686 - val_loss: 2.3289 - val_accuracy: 0.0933 - 232ms/epoch - 77ms/step\n",
      "Epoch 11/20\n",
      "3/3 - 0s - loss: 2.2362 - accuracy: 0.1829 - val_loss: 2.3280 - val_accuracy: 0.0933 - 234ms/epoch - 78ms/step\n",
      "Epoch 12/20\n",
      "3/3 - 0s - loss: 2.2288 - accuracy: 0.1886 - val_loss: 2.3270 - val_accuracy: 0.0933 - 183ms/epoch - 61ms/step\n",
      "Epoch 13/20\n",
      "3/3 - 0s - loss: 2.2213 - accuracy: 0.2057 - val_loss: 2.3261 - val_accuracy: 0.0933 - 180ms/epoch - 60ms/step\n",
      "Epoch 14/20\n",
      "3/3 - 0s - loss: 2.2139 - accuracy: 0.2114 - val_loss: 2.3252 - val_accuracy: 0.0933 - 169ms/epoch - 56ms/step\n",
      "Epoch 15/20\n",
      "3/3 - 0s - loss: 2.2063 - accuracy: 0.2200 - val_loss: 2.3243 - val_accuracy: 0.0933 - 187ms/epoch - 62ms/step\n",
      "Epoch 16/20\n",
      "3/3 - 0s - loss: 2.1990 - accuracy: 0.2286 - val_loss: 2.3234 - val_accuracy: 0.0933 - 178ms/epoch - 59ms/step\n",
      "Epoch 17/20\n",
      "3/3 - 0s - loss: 2.1915 - accuracy: 0.2343 - val_loss: 2.3225 - val_accuracy: 0.0933 - 169ms/epoch - 56ms/step\n",
      "Epoch 18/20\n",
      "3/3 - 0s - loss: 2.1842 - accuracy: 0.2400 - val_loss: 2.3216 - val_accuracy: 0.0933 - 170ms/epoch - 57ms/step\n",
      "Epoch 19/20\n",
      "3/3 - 0s - loss: 2.1768 - accuracy: 0.2543 - val_loss: 2.3207 - val_accuracy: 0.0933 - 221ms/epoch - 74ms/step\n",
      "Epoch 20/20\n",
      "3/3 - 0s - loss: 2.1695 - accuracy: 0.2571 - val_loss: 2.3198 - val_accuracy: 0.0933 - 213ms/epoch - 71ms/step\n",
      "Test score: 2.3198442459106445\n",
      "Test accuracy: 0.09333333373069763\n"
     ]
    }
   ],
   "source": [
    "from __future__ import print_function\n",
    "import pandas\n",
    "import numpy as np\n",
    "from keras.models import Sequential\n",
    "from keras.layers import Dense,Activation\n",
    "from keras.wrappers.scikit_learn import KerasClassifier\n",
    "from sklearn.model_selection import cross_val_score\n",
    "from tensorflow.keras.utils import to_categorical\n",
    "\n",
    "seed = 7\n",
    "split = 350\n",
    "np.random.seed(seed)\n",
    "\n",
    "data_set = np.genfromtxt('dataset.csv',delimiter = ',')\n",
    "np.random.shuffle(data_set)\n",
    "\n",
    "train,test = data_set[:split,:],data_set[split:,:] \n",
    "\n",
    "X,Y = train[:,:-1],train[:,-1]\n",
    "Y = to_categorical(Y,10)\n",
    "\n",
    "New_X, New_Y = test[:,:-1],test[:,-1]\n",
    "\n",
    "New_Y = to_categorical(New_Y,10)\n",
    "model = Sequential()\n",
    "\n",
    "model.add(Dense(512, input_dim=10000, activation='tanh'))\n",
    "model.add(Dense(10, activation='softmax'))\n",
    "\n",
    "model.compile(loss='categorical_crossentropy', optimizer= 'adagrad', metrics=['accuracy'])\n",
    "\n",
    "result = model.fit(X,Y,batch_size = 120, epochs = 20 ,verbose = 2,validation_data = (New_X, New_Y))\n",
    "\n",
    "score = model.evaluate(New_X, New_Y,verbose = 0)\n",
    "print(\"Test score:\", score[0])\n",
    "print(\"Test accuracy:\",score[1])"
   ]
  },
  {
   "cell_type": "code",
   "execution_count": null,
   "id": "70eb86d0-b6ed-4a60-b7fb-3928f01554b2",
   "metadata": {},
   "outputs": [],
   "source": []
  }
 ],
 "metadata": {
  "kernelspec": {
   "display_name": "Python 3 (ipykernel)",
   "language": "python",
   "name": "python3"
  },
  "language_info": {
   "codemirror_mode": {
    "name": "ipython",
    "version": 3
   },
   "file_extension": ".py",
   "mimetype": "text/x-python",
   "name": "python",
   "nbconvert_exporter": "python",
   "pygments_lexer": "ipython3",
   "version": "3.9.7"
  }
 },
 "nbformat": 4,
 "nbformat_minor": 5
}
